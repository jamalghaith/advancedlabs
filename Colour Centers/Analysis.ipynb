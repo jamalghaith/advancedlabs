{
 "cells": [
  {
   "cell_type": "code",
   "execution_count": 30,
   "metadata": {},
   "outputs": [],
   "source": [
    "# Import and plot .asc files from Task 1 folder, data in asc file starts after the line that says #DATA and convert commas to dots in the data.\n",
    "import numpy as np\n",
    "import matplotlib.pyplot as plt\n",
    "import os\n",
    "\n",
    "# Get the current working directory\n",
    "cwd = os.getcwd()\n",
    "\n",
    "# Get the path to the Task 1 folder\n",
    "path = os.path.join(cwd, 'Task 1')\n",
    "\n",
    "# Get the list of files in the Task 1 folder\n",
    "files = os.listdir(path)\n",
    "\n",
    "# Initialize the list of data\n",
    "data = []\n",
    "\n",
    "# Loop through the files in the Task 1 folder\n",
    "for file in files:\n",
    "    # Check if the file is a .asc file\n",
    "    if file.endswith('.asc'):\n",
    "        # Get the path to the file\n",
    "        file_path = os.path.join(path, file)\n",
    "        \n",
    "        # Open the file\n",
    "        with open(file_path, 'r') as f:\n",
    "            # Read the lines of the file\n",
    "            lines = f.readlines()\n",
    "            \n",
    "            # Initialize the data list for the current file\n",
    "            file_data = []\n",
    "            \n",
    "            # Loop through the lines of the file\n",
    "            for line in lines:\n",
    "                # Check if the line contains the data\n",
    "                if line.startswith('#DATA'):\n",
    "                    # Get the index of the line\n",
    "                    index = lines.index(line)\n",
    "                    \n",
    "                    # Loop through the lines after the line that says #DATA\n",
    "                    for i in range(index + 1, len(lines)):\n",
    "                        # Replace commas with dots in the line\n",
    "                        line = lines[i].replace(',', '.')\n",
    "                        \n",
    "                        # Split the line into values and convert them to floats\n",
    "                        values = [float(value) for value in line.split()]\n",
    "                        \n",
    "                        # Append the values to the file data list\n",
    "                        file_data.append(values)\n",
    "            \n",
    "            # Append the file data to the data list\n",
    "            data.append(file_data)\n",
    "\n"
   ]
  }
 ],
 "metadata": {
  "kernelspec": {
   "display_name": "Python 3",
   "language": "python",
   "name": "python3"
  },
  "language_info": {
   "codemirror_mode": {
    "name": "ipython",
    "version": 3
   },
   "file_extension": ".py",
   "mimetype": "text/x-python",
   "name": "python",
   "nbconvert_exporter": "python",
   "pygments_lexer": "ipython3",
   "version": "3.11.9"
  }
 },
 "nbformat": 4,
 "nbformat_minor": 2
}
